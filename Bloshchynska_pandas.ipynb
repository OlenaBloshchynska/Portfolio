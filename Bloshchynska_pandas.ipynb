{
 "cells": [
  {
   "cell_type": "markdown",
   "id": "6bbb4b6a",
   "metadata": {},
   "source": [
    "# Pandas"
   ]
  },
  {
   "cell_type": "markdown",
   "id": "7ef4e602",
   "metadata": {},
   "source": [
    "In this notebook, I'm working with a dataset about sales in various supermarket chains. The data is taken from Kaggle, at this link https://www.kaggle.com/aungpyaeap/supermarket-sales. In this dataset, I'll consider each row (unique Invoice ID) as one visit to the supermarket."
   ]
  },
  {
   "cell_type": "markdown",
   "id": "fd7f076b",
   "metadata": {
    "ExecuteTime": {
     "end_time": "2021-09-20T19:43:50.443031Z",
     "start_time": "2021-09-20T19:43:50.439600Z"
    }
   },
   "source": [
    "1. Using the Pandas library, I will read the dataset from the file 'supermarket_sales.csv' downloaded to my laptop with a single function call."
   ]
  },
  {
   "cell_type": "code",
   "execution_count": 1,
   "id": "8a5d12e6",
   "metadata": {},
   "outputs": [
    {
     "data": {
      "text/plain": [
       "<module 'pandas' from 'C:\\\\Users\\\\Administrator\\\\anaconda3\\\\Lib\\\\site-packages\\\\pandas\\\\__init__.py'>"
      ]
     },
     "execution_count": 1,
     "metadata": {},
     "output_type": "execute_result"
    }
   ],
   "source": [
    "import numpy as np\n",
    "import pandas as pd\n",
    "pd"
   ]
  },
  {
   "cell_type": "code",
   "execution_count": 2,
   "id": "8618a43d",
   "metadata": {},
   "outputs": [],
   "source": [
    "?pd.read_csv"
   ]
  },
  {
   "cell_type": "code",
   "execution_count": 3,
   "id": "acaf127d",
   "metadata": {
    "ExecuteTime": {
     "end_time": "2022-11-12T13:06:25.860876Z",
     "start_time": "2022-11-12T13:06:16.921793Z"
    }
   },
   "outputs": [],
   "source": [
    "df = pd.read_csv('C:/Users/Administrator/data/hw3/supermarket_sales.csv')"
   ]
  },
  {
   "cell_type": "markdown",
   "id": "ca064875",
   "metadata": {
    "ExecuteTime": {
     "end_time": "2021-09-20T19:44:56.499824Z",
     "start_time": "2021-09-20T19:44:56.496923Z"
    }
   },
   "source": [
    "2. Using the Pandas library, I'll display the first 4 and last 4 records in the dataset."
   ]
  },
  {
   "cell_type": "code",
   "execution_count": 4,
   "id": "d095f26b",
   "metadata": {
    "ExecuteTime": {
     "end_time": "2021-12-08T18:46:42.601691Z",
     "start_time": "2021-12-08T18:46:42.570962Z"
    }
   },
   "outputs": [
    {
     "data": {
      "text/html": [
       "<div>\n",
       "<style scoped>\n",
       "    .dataframe tbody tr th:only-of-type {\n",
       "        vertical-align: middle;\n",
       "    }\n",
       "\n",
       "    .dataframe tbody tr th {\n",
       "        vertical-align: top;\n",
       "    }\n",
       "\n",
       "    .dataframe thead th {\n",
       "        text-align: right;\n",
       "    }\n",
       "</style>\n",
       "<table border=\"1\" class=\"dataframe\">\n",
       "  <thead>\n",
       "    <tr style=\"text-align: right;\">\n",
       "      <th></th>\n",
       "      <th>Invoice ID</th>\n",
       "      <th>Branch</th>\n",
       "      <th>City</th>\n",
       "      <th>Customer type</th>\n",
       "      <th>Gender</th>\n",
       "      <th>Product line</th>\n",
       "      <th>Unit price</th>\n",
       "      <th>Quantity</th>\n",
       "      <th>Tax 5%</th>\n",
       "      <th>Total</th>\n",
       "      <th>Date</th>\n",
       "      <th>Time</th>\n",
       "      <th>Payment</th>\n",
       "      <th>cogs</th>\n",
       "      <th>gross margin percentage</th>\n",
       "      <th>gross income</th>\n",
       "      <th>Rating</th>\n",
       "    </tr>\n",
       "  </thead>\n",
       "  <tbody>\n",
       "    <tr>\n",
       "      <th>0</th>\n",
       "      <td>750-67-8428</td>\n",
       "      <td>A</td>\n",
       "      <td>Yangon</td>\n",
       "      <td>Member</td>\n",
       "      <td>Female</td>\n",
       "      <td>Health and beauty</td>\n",
       "      <td>74.69</td>\n",
       "      <td>7</td>\n",
       "      <td>26.1415</td>\n",
       "      <td>548.9715</td>\n",
       "      <td>1/5/2019</td>\n",
       "      <td>13:08</td>\n",
       "      <td>Ewallet</td>\n",
       "      <td>522.83</td>\n",
       "      <td>4.761905</td>\n",
       "      <td>26.1415</td>\n",
       "      <td>9.1</td>\n",
       "    </tr>\n",
       "    <tr>\n",
       "      <th>1</th>\n",
       "      <td>226-31-3081</td>\n",
       "      <td>C</td>\n",
       "      <td>Naypyitaw</td>\n",
       "      <td>Normal</td>\n",
       "      <td>Female</td>\n",
       "      <td>Electronic accessories</td>\n",
       "      <td>15.28</td>\n",
       "      <td>5</td>\n",
       "      <td>3.8200</td>\n",
       "      <td>80.2200</td>\n",
       "      <td>3/8/2019</td>\n",
       "      <td>10:29</td>\n",
       "      <td>Cash</td>\n",
       "      <td>76.40</td>\n",
       "      <td>4.761905</td>\n",
       "      <td>3.8200</td>\n",
       "      <td>9.6</td>\n",
       "    </tr>\n",
       "    <tr>\n",
       "      <th>2</th>\n",
       "      <td>631-41-3108</td>\n",
       "      <td>A</td>\n",
       "      <td>Yangon</td>\n",
       "      <td>Normal</td>\n",
       "      <td>Male</td>\n",
       "      <td>Home and lifestyle</td>\n",
       "      <td>46.33</td>\n",
       "      <td>7</td>\n",
       "      <td>16.2155</td>\n",
       "      <td>340.5255</td>\n",
       "      <td>3/3/2019</td>\n",
       "      <td>13:23</td>\n",
       "      <td>Credit card</td>\n",
       "      <td>324.31</td>\n",
       "      <td>4.761905</td>\n",
       "      <td>16.2155</td>\n",
       "      <td>7.4</td>\n",
       "    </tr>\n",
       "    <tr>\n",
       "      <th>3</th>\n",
       "      <td>123-19-1176</td>\n",
       "      <td>A</td>\n",
       "      <td>Yangon</td>\n",
       "      <td>Member</td>\n",
       "      <td>Male</td>\n",
       "      <td>Health and beauty</td>\n",
       "      <td>58.22</td>\n",
       "      <td>8</td>\n",
       "      <td>23.2880</td>\n",
       "      <td>489.0480</td>\n",
       "      <td>1/27/2019</td>\n",
       "      <td>20:33</td>\n",
       "      <td>Ewallet</td>\n",
       "      <td>465.76</td>\n",
       "      <td>4.761905</td>\n",
       "      <td>23.2880</td>\n",
       "      <td>8.4</td>\n",
       "    </tr>\n",
       "    <tr>\n",
       "      <th>996</th>\n",
       "      <td>303-96-2227</td>\n",
       "      <td>B</td>\n",
       "      <td>Mandalay</td>\n",
       "      <td>Normal</td>\n",
       "      <td>Female</td>\n",
       "      <td>Home and lifestyle</td>\n",
       "      <td>97.38</td>\n",
       "      <td>10</td>\n",
       "      <td>48.6900</td>\n",
       "      <td>1022.4900</td>\n",
       "      <td>3/2/2019</td>\n",
       "      <td>17:16</td>\n",
       "      <td>Ewallet</td>\n",
       "      <td>973.80</td>\n",
       "      <td>4.761905</td>\n",
       "      <td>48.6900</td>\n",
       "      <td>4.4</td>\n",
       "    </tr>\n",
       "    <tr>\n",
       "      <th>997</th>\n",
       "      <td>727-02-1313</td>\n",
       "      <td>A</td>\n",
       "      <td>Yangon</td>\n",
       "      <td>Member</td>\n",
       "      <td>Male</td>\n",
       "      <td>Food and beverages</td>\n",
       "      <td>31.84</td>\n",
       "      <td>1</td>\n",
       "      <td>1.5920</td>\n",
       "      <td>33.4320</td>\n",
       "      <td>2/9/2019</td>\n",
       "      <td>13:22</td>\n",
       "      <td>Cash</td>\n",
       "      <td>31.84</td>\n",
       "      <td>4.761905</td>\n",
       "      <td>1.5920</td>\n",
       "      <td>7.7</td>\n",
       "    </tr>\n",
       "    <tr>\n",
       "      <th>998</th>\n",
       "      <td>347-56-2442</td>\n",
       "      <td>A</td>\n",
       "      <td>Yangon</td>\n",
       "      <td>Normal</td>\n",
       "      <td>Male</td>\n",
       "      <td>Home and lifestyle</td>\n",
       "      <td>65.82</td>\n",
       "      <td>1</td>\n",
       "      <td>3.2910</td>\n",
       "      <td>69.1110</td>\n",
       "      <td>2/22/2019</td>\n",
       "      <td>15:33</td>\n",
       "      <td>Cash</td>\n",
       "      <td>65.82</td>\n",
       "      <td>4.761905</td>\n",
       "      <td>3.2910</td>\n",
       "      <td>4.1</td>\n",
       "    </tr>\n",
       "    <tr>\n",
       "      <th>999</th>\n",
       "      <td>849-09-3807</td>\n",
       "      <td>A</td>\n",
       "      <td>Yangon</td>\n",
       "      <td>Member</td>\n",
       "      <td>Female</td>\n",
       "      <td>Fashion accessories</td>\n",
       "      <td>88.34</td>\n",
       "      <td>7</td>\n",
       "      <td>30.9190</td>\n",
       "      <td>649.2990</td>\n",
       "      <td>2/18/2019</td>\n",
       "      <td>13:28</td>\n",
       "      <td>Cash</td>\n",
       "      <td>618.38</td>\n",
       "      <td>4.761905</td>\n",
       "      <td>30.9190</td>\n",
       "      <td>6.6</td>\n",
       "    </tr>\n",
       "  </tbody>\n",
       "</table>\n",
       "</div>"
      ],
      "text/plain": [
       "      Invoice ID Branch       City Customer type  Gender  \\\n",
       "0    750-67-8428      A     Yangon        Member  Female   \n",
       "1    226-31-3081      C  Naypyitaw        Normal  Female   \n",
       "2    631-41-3108      A     Yangon        Normal    Male   \n",
       "3    123-19-1176      A     Yangon        Member    Male   \n",
       "996  303-96-2227      B   Mandalay        Normal  Female   \n",
       "997  727-02-1313      A     Yangon        Member    Male   \n",
       "998  347-56-2442      A     Yangon        Normal    Male   \n",
       "999  849-09-3807      A     Yangon        Member  Female   \n",
       "\n",
       "               Product line  Unit price  Quantity   Tax 5%      Total  \\\n",
       "0         Health and beauty       74.69         7  26.1415   548.9715   \n",
       "1    Electronic accessories       15.28         5   3.8200    80.2200   \n",
       "2        Home and lifestyle       46.33         7  16.2155   340.5255   \n",
       "3         Health and beauty       58.22         8  23.2880   489.0480   \n",
       "996      Home and lifestyle       97.38        10  48.6900  1022.4900   \n",
       "997      Food and beverages       31.84         1   1.5920    33.4320   \n",
       "998      Home and lifestyle       65.82         1   3.2910    69.1110   \n",
       "999     Fashion accessories       88.34         7  30.9190   649.2990   \n",
       "\n",
       "          Date   Time      Payment    cogs  gross margin percentage  \\\n",
       "0     1/5/2019  13:08      Ewallet  522.83                 4.761905   \n",
       "1     3/8/2019  10:29         Cash   76.40                 4.761905   \n",
       "2     3/3/2019  13:23  Credit card  324.31                 4.761905   \n",
       "3    1/27/2019  20:33      Ewallet  465.76                 4.761905   \n",
       "996   3/2/2019  17:16      Ewallet  973.80                 4.761905   \n",
       "997   2/9/2019  13:22         Cash   31.84                 4.761905   \n",
       "998  2/22/2019  15:33         Cash   65.82                 4.761905   \n",
       "999  2/18/2019  13:28         Cash  618.38                 4.761905   \n",
       "\n",
       "     gross income  Rating  \n",
       "0         26.1415     9.1  \n",
       "1          3.8200     9.6  \n",
       "2         16.2155     7.4  \n",
       "3         23.2880     8.4  \n",
       "996       48.6900     4.4  \n",
       "997        1.5920     7.7  \n",
       "998        3.2910     4.1  \n",
       "999       30.9190     6.6  "
      ]
     },
     "execution_count": 4,
     "metadata": {},
     "output_type": "execute_result"
    }
   ],
   "source": [
    "pd.concat([df.head(4), df.tail(4)])"
   ]
  },
  {
   "cell_type": "markdown",
   "id": "33661c15",
   "metadata": {
    "ExecuteTime": {
     "end_time": "2022-11-01T16:51:38.594974Z",
     "start_time": "2022-11-01T16:51:38.591423Z"
    }
   },
   "source": [
    "3. Now I display the number of rows and the number of columns in the dataset, formating answer using f-string."
   ]
  },
  {
   "cell_type": "code",
   "execution_count": 7,
   "id": "bac0cbfc",
   "metadata": {
    "ExecuteTime": {
     "end_time": "2022-11-01T16:54:59.887783Z",
     "start_time": "2022-11-01T16:54:59.884323Z"
    }
   },
   "outputs": [
    {
     "name": "stdout",
     "output_type": "stream",
     "text": [
      "Dataset contains 1000 rows and 17 columns.\n"
     ]
    }
   ],
   "source": [
    "num_rows, num_columns = df.shape\n",
    "print(f\"Dataset contains {num_rows} rows and {num_columns} columns.\")"
   ]
  },
  {
   "cell_type": "markdown",
   "id": "2d54e0e4",
   "metadata": {},
   "source": [
    "4. Here I'll print the column names in the dataset along with their types."
   ]
  },
  {
   "cell_type": "code",
   "execution_count": 8,
   "id": "513f5a99",
   "metadata": {
    "ExecuteTime": {
     "end_time": "2021-12-08T18:46:42.609601Z",
     "start_time": "2021-12-08T18:46:42.604424Z"
    }
   },
   "outputs": [
    {
     "data": {
      "text/plain": [
       "Invoice ID                  object\n",
       "Branch                      object\n",
       "City                        object\n",
       "Customer type               object\n",
       "Gender                      object\n",
       "Product line                object\n",
       "Unit price                 float64\n",
       "Quantity                     int64\n",
       "Tax 5%                     float64\n",
       "Total                      float64\n",
       "Date                        object\n",
       "Time                        object\n",
       "Payment                     object\n",
       "cogs                       float64\n",
       "gross margin percentage    float64\n",
       "gross income               float64\n",
       "Rating                     float64\n",
       "dtype: object"
      ]
     },
     "execution_count": 8,
     "metadata": {},
     "output_type": "execute_result"
    }
   ],
   "source": [
    "df.dtypes"
   ]
  },
  {
   "cell_type": "markdown",
   "id": "75f38c1e",
   "metadata": {
    "ExecuteTime": {
     "end_time": "2021-09-20T19:46:49.248936Z",
     "start_time": "2021-09-20T19:46:49.245644Z"
    }
   },
   "source": [
    "5. Let's find how many columns of each type (text, int, float) are there in this dataset?"
   ]
  },
  {
   "cell_type": "code",
   "execution_count": 9,
   "id": "62afdd41",
   "metadata": {
    "ExecuteTime": {
     "end_time": "2022-11-01T17:05:41.960427Z",
     "start_time": "2022-11-01T17:05:41.948447Z"
    }
   },
   "outputs": [
    {
     "data": {
      "text/plain": [
       "object     9\n",
       "float64    7\n",
       "int64      1\n",
       "Name: count, dtype: int64"
      ]
     },
     "execution_count": 9,
     "metadata": {},
     "output_type": "execute_result"
    }
   ],
   "source": [
    "df.dtypes.value_counts()"
   ]
  },
  {
   "cell_type": "markdown",
   "id": "815f9cc0",
   "metadata": {},
   "source": [
    "6. How many total visits (number of invoices) were made by customers with different types of clients (Customer type)? "
   ]
  },
  {
   "cell_type": "code",
   "execution_count": 10,
   "id": "a54f4008",
   "metadata": {},
   "outputs": [
    {
     "data": {
      "text/plain": [
       "Customer type\n",
       "Member    501\n",
       "Normal    499\n",
       "Name: Customer type, dtype: int64"
      ]
     },
     "execution_count": 10,
     "metadata": {},
     "output_type": "execute_result"
    }
   ],
   "source": [
    "df.groupby('Customer type')['Customer type'].count()"
   ]
  },
  {
   "cell_type": "markdown",
   "id": "f4c8d00f",
   "metadata": {},
   "source": [
    "7. What are the product lines (Product line) in the dataset? I'll display the unique names."
   ]
  },
  {
   "cell_type": "code",
   "execution_count": 11,
   "id": "61ae9569",
   "metadata": {
    "ExecuteTime": {
     "end_time": "2021-12-08T18:46:42.649683Z",
     "start_time": "2021-12-08T18:46:42.644615Z"
    }
   },
   "outputs": [
    {
     "data": {
      "text/plain": [
       "array(['Health and beauty', 'Electronic accessories',\n",
       "       'Home and lifestyle', 'Sports and travel', 'Food and beverages',\n",
       "       'Fashion accessories'], dtype=object)"
      ]
     },
     "execution_count": 11,
     "metadata": {},
     "output_type": "execute_result"
    }
   ],
   "source": [
    "df['Product line'].unique()"
   ]
  },
  {
   "cell_type": "markdown",
   "id": "7d3dc308",
   "metadata": {
    "ExecuteTime": {
     "end_time": "2021-09-20T19:54:26.232269Z",
     "start_time": "2021-09-20T19:54:26.229253Z"
    }
   },
   "source": [
    "8. What is the average price of products in each product line?\n",
    "The product price is contained in the column 'Unit price'."
   ]
  },
  {
   "cell_type": "code",
   "execution_count": 12,
   "id": "2a9b94c5",
   "metadata": {
    "ExecuteTime": {
     "end_time": "2021-12-08T18:46:42.661701Z",
     "start_time": "2021-12-08T18:46:42.655591Z"
    }
   },
   "outputs": [
    {
     "name": "stdout",
     "output_type": "stream",
     "text": [
      "Product line\n",
      "Electronic accessories    53.551588\n",
      "Fashion accessories       57.153652\n",
      "Food and beverages        56.008851\n",
      "Health and beauty         54.854474\n",
      "Home and lifestyle        55.316937\n",
      "Sports and travel         56.993253\n",
      "Name: Unit price, dtype: float64\n"
     ]
    }
   ],
   "source": [
    "average_prices_by_product_line = df.groupby('Product line')['Unit price'].mean()\n",
    "print(average_prices_by_product_line)"
   ]
  },
  {
   "cell_type": "markdown",
   "id": "677ac891",
   "metadata": {
    "ExecuteTime": {
     "end_time": "2021-10-12T18:19:46.908444Z",
     "start_time": "2021-10-12T18:19:46.900526Z"
    }
   },
   "source": [
    "9. From which invoice (row in this data) did the store receive the highest profit (gross income)? "
   ]
  },
  {
   "cell_type": "code",
   "execution_count": 13,
   "id": "84539697",
   "metadata": {},
   "outputs": [
    {
     "name": "stdout",
     "output_type": "stream",
     "text": [
      "Invoice ID                         860-79-0874\n",
      "Branch                                       C\n",
      "City                                 Naypyitaw\n",
      "Customer type                           Member\n",
      "Gender                                  Female\n",
      "Product line               Fashion accessories\n",
      "Unit price                                99.3\n",
      "Quantity                                    10\n",
      "Tax 5%                                   49.65\n",
      "Total                                  1042.65\n",
      "Date                                 2/15/2019\n",
      "Time                                     14:53\n",
      "Payment                            Credit card\n",
      "cogs                                     993.0\n",
      "gross margin percentage               4.761905\n",
      "gross income                             49.65\n",
      "Rating                                     6.6\n",
      "Name: 350, dtype: object\n"
     ]
    }
   ],
   "source": [
    "max_profit_index = df['gross income'].idxmax()\n",
    "row_with_max_profit = df.loc[max_profit_index]\n",
    "print(row_with_max_profit)"
   ]
  },
  {
   "cell_type": "markdown",
   "id": "28638363",
   "metadata": {},
   "source": [
    "10. Which branch of the store ('Branch') is the most profitable? What is the total profit it has, and in which city is it located? Perhaps we should consider opening another store there? I'll calculate the result using Pandas functionality and output using f-string formatting."
   ]
  },
  {
   "cell_type": "code",
   "execution_count": 15,
   "id": "916d731d",
   "metadata": {
    "ExecuteTime": {
     "end_time": "2022-11-01T17:27:42.023877Z",
     "start_time": "2022-11-01T17:27:42.020277Z"
    }
   },
   "outputs": [
    {
     "name": "stdout",
     "output_type": "stream",
     "text": [
      "Branch \"C\" is the most profitable. This branch is in Naypyitaw.\n"
     ]
    }
   ],
   "source": [
    "branch_gross_income = df.groupby('Branch')['gross income'].sum()\n",
    "most_profitable_branch = branch_gross_income.idxmax()\n",
    "total_gross_income_most_profitable_branch = branch_gross_income.max()\n",
    "\n",
    "city_most_profitable_branch = df[df['Branch'] == most_profitable_branch]['City'].iloc[0]\n",
    "print(f'Branch \"{most_profitable_branch}\" is the most profitable. This branch is in {city_most_profitable_branch}.')"
   ]
  },
  {
   "cell_type": "markdown",
   "id": "cdcab0d9",
   "metadata": {},
   "source": [
    "11. Let's check programmatically if the gross margin percentage differs for different visits (invoices) to the store."
   ]
  },
  {
   "cell_type": "code",
   "execution_count": 16,
   "id": "779eee90",
   "metadata": {
    "ExecuteTime": {
     "end_time": "2022-11-01T17:32:47.532241Z",
     "start_time": "2022-11-01T17:32:47.525715Z"
    }
   },
   "outputs": [
    {
     "name": "stdout",
     "output_type": "stream",
     "text": [
      "All values in column 'gross margin percentage' are the same.\n"
     ]
    }
   ],
   "source": [
    "unique_values_count = df['gross margin percentage'].nunique()\n",
    "if unique_values_count == 1:\n",
    "    print(\"All values in column 'gross margin percentage' are the same.\")\n",
    "else:\n",
    "    print(\"All values in column 'gross margin percentage' are diffrent.\")"
   ]
  },
  {
   "cell_type": "markdown",
   "id": "6dec795f",
   "metadata": {},
   "source": [
    "12. Which branch of the store ('Branch') has the highest number of visits (invoices) with purchases of electronic accessories ('Electronic accessories')? Electronic accessories is one of the product lines. For the answer I'll create a table where the rows are the branch names, the columns are the names of the product lines, and the values are the number of visits during which electronic accessories were purchased (i.e., the number of rows in the data). "
   ]
  },
  {
   "cell_type": "code",
   "execution_count": 20,
   "id": "cadbd0d1",
   "metadata": {
    "ExecuteTime": {
     "end_time": "2022-11-01T17:37:46.479624Z",
     "start_time": "2022-11-01T17:37:46.464642Z"
    }
   },
   "outputs": [
    {
     "data": {
      "text/html": [
       "<div>\n",
       "<style scoped>\n",
       "    .dataframe tbody tr th:only-of-type {\n",
       "        vertical-align: middle;\n",
       "    }\n",
       "\n",
       "    .dataframe tbody tr th {\n",
       "        vertical-align: top;\n",
       "    }\n",
       "\n",
       "    .dataframe thead th {\n",
       "        text-align: right;\n",
       "    }\n",
       "</style>\n",
       "<table border=\"1\" class=\"dataframe\">\n",
       "  <thead>\n",
       "    <tr style=\"text-align: right;\">\n",
       "      <th>Product line</th>\n",
       "      <th>Electronic accessories</th>\n",
       "      <th>Fashion accessories</th>\n",
       "      <th>Food and beverages</th>\n",
       "      <th>Health and beauty</th>\n",
       "      <th>Home and lifestyle</th>\n",
       "      <th>Sports and travel</th>\n",
       "    </tr>\n",
       "    <tr>\n",
       "      <th>Branch</th>\n",
       "      <th></th>\n",
       "      <th></th>\n",
       "      <th></th>\n",
       "      <th></th>\n",
       "      <th></th>\n",
       "      <th></th>\n",
       "    </tr>\n",
       "  </thead>\n",
       "  <tbody>\n",
       "    <tr>\n",
       "      <th>A</th>\n",
       "      <td>60</td>\n",
       "      <td>51</td>\n",
       "      <td>58</td>\n",
       "      <td>47</td>\n",
       "      <td>65</td>\n",
       "      <td>59</td>\n",
       "    </tr>\n",
       "    <tr>\n",
       "      <th>B</th>\n",
       "      <td>55</td>\n",
       "      <td>62</td>\n",
       "      <td>50</td>\n",
       "      <td>53</td>\n",
       "      <td>50</td>\n",
       "      <td>62</td>\n",
       "    </tr>\n",
       "    <tr>\n",
       "      <th>C</th>\n",
       "      <td>55</td>\n",
       "      <td>65</td>\n",
       "      <td>66</td>\n",
       "      <td>52</td>\n",
       "      <td>45</td>\n",
       "      <td>45</td>\n",
       "    </tr>\n",
       "  </tbody>\n",
       "</table>\n",
       "</div>"
      ],
      "text/plain": [
       "Product line  Electronic accessories  Fashion accessories  Food and beverages  \\\n",
       "Branch                                                                          \n",
       "A                                 60                   51                  58   \n",
       "B                                 55                   62                  50   \n",
       "C                                 55                   65                  66   \n",
       "\n",
       "Product line  Health and beauty  Home and lifestyle  Sports and travel  \n",
       "Branch                                                                  \n",
       "A                            47                  65                 59  \n",
       "B                            53                  50                 62  \n",
       "C                            52                  45                 45  "
      ]
     },
     "execution_count": 20,
     "metadata": {},
     "output_type": "execute_result"
    }
   ],
   "source": [
    "pivot_table = df.pivot_table(index='Branch', columns='Product line', values='Invoice ID', aggfunc='count', fill_value=0)\n",
    "new_dataframe = pd.DataFrame(pivot_table)\n",
    "new_dataframe"
   ]
  },
  {
   "cell_type": "markdown",
   "id": "87482262",
   "metadata": {},
   "source": [
    "As we see, that Branch A has the highest number of invoices for Electronic accessories, as well as for Home and lifestyle.\n",
    "Branch B is has the highest number of invoices for Health and beauty, Sports and travel.\n",
    "Branch C is has the highest number of invoices for Fashion accessories, Food and beverages."
   ]
  },
  {
   "cell_type": "markdown",
   "id": "acc43aab",
   "metadata": {},
   "source": [
    "13. Now I'll display the number of visits (invoices) hourly and draw conclusions about when the store has the most visits (here we understand one visit as one invoice)."
   ]
  },
  {
   "cell_type": "code",
   "execution_count": 21,
   "id": "74bea339",
   "metadata": {},
   "outputs": [
    {
     "name": "stdout",
     "output_type": "stream",
     "text": [
      "0    13\n",
      "1    10\n",
      "2    13\n",
      "3    20\n",
      "4    10\n",
      "Name: Hour, dtype: int32\n"
     ]
    },
    {
     "name": "stderr",
     "output_type": "stream",
     "text": [
      "C:\\Users\\Administrator\\AppData\\Local\\Temp\\ipykernel_31224\\1323590783.py:1: UserWarning: Could not infer format, so each element will be parsed individually, falling back to `dateutil`. To ensure parsing is consistent and as-expected, please specify a format.\n",
      "  df['Hour'] = pd.to_datetime(df['Time']).dt.hour\n"
     ]
    }
   ],
   "source": [
    "df['Hour'] = pd.to_datetime(df['Time']).dt.hour\n",
    "print(df['Hour'].head())"
   ]
  },
  {
   "cell_type": "code",
   "execution_count": 22,
   "id": "d1d6d79a",
   "metadata": {},
   "outputs": [
    {
     "name": "stdout",
     "output_type": "stream",
     "text": [
      "Hour\n",
      "10    101\n",
      "11     90\n",
      "12     89\n",
      "13    103\n",
      "14     83\n",
      "15    102\n",
      "16     77\n",
      "17     74\n",
      "18     93\n",
      "19    113\n",
      "20     75\n",
      "Name: Invoice ID, dtype: int64\n"
     ]
    },
    {
     "name": "stderr",
     "output_type": "stream",
     "text": [
      "C:\\Users\\Administrator\\AppData\\Local\\Temp\\ipykernel_31224\\4126801018.py:1: UserWarning: Could not infer format, so each element will be parsed individually, falling back to `dateutil`. To ensure parsing is consistent and as-expected, please specify a format.\n",
      "  df['Hour'] = pd.to_datetime(df['Time']).dt.hour\n"
     ]
    }
   ],
   "source": [
    "df['Hour'] = pd.to_datetime(df['Time']).dt.hour\n",
    "invoices_per_hour = df.groupby('Hour')['Invoice ID'].count()\n",
    "print(invoices_per_hour)"
   ]
  },
  {
   "cell_type": "markdown",
   "id": "d26b17d9",
   "metadata": {},
   "source": [
    "We can observe that the highest number of invoices occurs at 10, 13, 15, and 19 hours. This suggests that the busiest hours for stores are when customers are either just going to work (if offline, then just starting work), during lunch breaks, or when they are leaving work (if offline, then when they finish) or returning to work after lunch. During these times, customers are either not yet or no longer focused on work routines and may want to take a break or address personal matters."
   ]
  },
  {
   "cell_type": "markdown",
   "id": "c557d343",
   "metadata": {},
   "source": [
    "14. Let's find which type of payment customers most frequently use?"
   ]
  },
  {
   "cell_type": "code",
   "execution_count": 23,
   "id": "50c30e37",
   "metadata": {},
   "outputs": [
    {
     "data": {
      "text/plain": [
       "'Ewallet'"
      ]
     },
     "execution_count": 23,
     "metadata": {},
     "output_type": "execute_result"
    }
   ],
   "source": [
    "most_common_payment = df['Payment'].mode().iloc[0]\n",
    "most_common_payment"
   ]
  },
  {
   "cell_type": "markdown",
   "id": "4407184b",
   "metadata": {},
   "source": [
    "15. Which Branch has the highest and the lowest rating?"
   ]
  },
  {
   "cell_type": "code",
   "execution_count": 24,
   "id": "719c8c4f",
   "metadata": {},
   "outputs": [
    {
     "data": {
      "text/plain": [
       "'C'"
      ]
     },
     "execution_count": 24,
     "metadata": {},
     "output_type": "execute_result"
    }
   ],
   "source": [
    "average_rating_by_branch = df.groupby('Branch')['Rating'].mean()\n",
    "highest_rated_branch = average_rating_by_branch.idxmax()\n",
    "highest_rated_branch"
   ]
  },
  {
   "cell_type": "code",
   "execution_count": 25,
   "id": "0b43e4b4",
   "metadata": {},
   "outputs": [
    {
     "data": {
      "text/plain": [
       "7.072865853658537"
      ]
     },
     "execution_count": 25,
     "metadata": {},
     "output_type": "execute_result"
    }
   ],
   "source": [
    "highest_rating_value = average_rating_by_branch.max()\n",
    "highest_rating_value"
   ]
  },
  {
   "cell_type": "code",
   "execution_count": 26,
   "id": "5c1a57be",
   "metadata": {},
   "outputs": [
    {
     "data": {
      "text/plain": [
       "'B'"
      ]
     },
     "execution_count": 26,
     "metadata": {},
     "output_type": "execute_result"
    }
   ],
   "source": [
    "lowest_rated_branch = average_rating_by_branch.idxmin()\n",
    "lowest_rated_branch"
   ]
  },
  {
   "cell_type": "code",
   "execution_count": 27,
   "id": "b2ea72f0",
   "metadata": {},
   "outputs": [
    {
     "data": {
      "text/plain": [
       "6.8180722891566266"
      ]
     },
     "execution_count": 27,
     "metadata": {},
     "output_type": "execute_result"
    }
   ],
   "source": [
    "lowest_rating_value = average_rating_by_branch.min()\n",
    "lowest_rating_value"
   ]
  },
  {
   "cell_type": "markdown",
   "id": "65373ac3",
   "metadata": {},
   "source": [
    "We can see that the difference between the maximum and minimum ratings is not so critical, only 0.25. However, Branch B still has place for improvement."
   ]
  },
  {
   "cell_type": "markdown",
   "id": "e7456f2a",
   "metadata": {},
   "source": [
    "16. Now let's consider which product line has the highest and lowest average rating?"
   ]
  },
  {
   "cell_type": "code",
   "execution_count": 28,
   "id": "d49e8ef2",
   "metadata": {},
   "outputs": [
    {
     "data": {
      "text/plain": [
       "'Food and beverages'"
      ]
     },
     "execution_count": 28,
     "metadata": {},
     "output_type": "execute_result"
    }
   ],
   "source": [
    "average_rating_by_product_line = df.groupby('Product line')['Rating'].mean()\n",
    "highest_rated_product = average_rating_by_product_line.idxmax()\n",
    "highest_rated_product"
   ]
  },
  {
   "cell_type": "code",
   "execution_count": 29,
   "id": "f9ddb642",
   "metadata": {},
   "outputs": [
    {
     "data": {
      "text/plain": [
       "7.113218390804598"
      ]
     },
     "execution_count": 29,
     "metadata": {},
     "output_type": "execute_result"
    }
   ],
   "source": [
    "highest_rating_value_product = average_rating_by_product_line.max()\n",
    "highest_rating_value_product"
   ]
  },
  {
   "cell_type": "code",
   "execution_count": 30,
   "id": "f2e84cd6",
   "metadata": {},
   "outputs": [
    {
     "data": {
      "text/plain": [
       "'Home and lifestyle'"
      ]
     },
     "execution_count": 30,
     "metadata": {},
     "output_type": "execute_result"
    }
   ],
   "source": [
    "lowest_rated_product = average_rating_by_product_line.idxmin()\n",
    "lowest_rated_product"
   ]
  },
  {
   "cell_type": "code",
   "execution_count": 31,
   "id": "d8a30eb2",
   "metadata": {},
   "outputs": [
    {
     "data": {
      "text/plain": [
       "6.8375"
      ]
     },
     "execution_count": 31,
     "metadata": {},
     "output_type": "execute_result"
    }
   ],
   "source": [
    "lowest_rating_value_product = average_rating_by_product_line.min()\n",
    "lowest_rating_value_product"
   ]
  },
  {
   "cell_type": "markdown",
   "id": "2cc24f83",
   "metadata": {},
   "source": [
    "We again see a relatively small deviation in the average value of 0.27, but it is probably better for the business to focus on selling higher quality products from the Food and Beverages category, or, for example, to analyze the reasons for low ratings for products from the Home and Lifestyle group. Additionally, we will analyze which product group generates the highest profits."
   ]
  },
  {
   "cell_type": "code",
   "execution_count": 32,
   "id": "7cac3174",
   "metadata": {},
   "outputs": [
    {
     "data": {
      "text/plain": [
       "Product line\n",
       "Electronic accessories    2587.5015\n",
       "Fashion accessories       2585.9950\n",
       "Food and beverages        2673.5640\n",
       "Health and beauty         2342.5590\n",
       "Home and lifestyle        2564.8530\n",
       "Sports and travel         2624.8965\n",
       "Name: gross income, dtype: float64"
      ]
     },
     "execution_count": 32,
     "metadata": {},
     "output_type": "execute_result"
    }
   ],
   "source": [
    "highest_gross_income_by_product_line = df.groupby('Product line')['gross income'].sum()\n",
    "highest_gross_income_by_product_line"
   ]
  },
  {
   "cell_type": "markdown",
   "id": "f41044d3",
   "metadata": {},
   "source": [
    "As we can see, the Home and Lifestyle category generates relatively low income, and it is worth improving the quality of the products, as there is likely a direct correlation. On the other hand, the Food and Beverages category appears to be balanced, as it ranks first in terms of revenue."
   ]
  }
 ],
 "metadata": {
  "kernelspec": {
   "display_name": "Python 3 (ipykernel)",
   "language": "python",
   "name": "python3"
  },
  "language_info": {
   "codemirror_mode": {
    "name": "ipython",
    "version": 3
   },
   "file_extension": ".py",
   "mimetype": "text/x-python",
   "name": "python",
   "nbconvert_exporter": "python",
   "pygments_lexer": "ipython3",
   "version": "3.11.5"
  },
  "toc": {
   "base_numbering": 1,
   "nav_menu": {},
   "number_sections": true,
   "sideBar": true,
   "skip_h1_title": false,
   "title_cell": "Table of Contents",
   "title_sidebar": "Contents",
   "toc_cell": false,
   "toc_position": {},
   "toc_section_display": true,
   "toc_window_display": false
  },
  "vscode": {
   "interpreter": {
    "hash": "a6511e6b41b26ba86cca7483749cf4dd15bf137a2672e550741a656e19bba82e"
   }
  }
 },
 "nbformat": 4,
 "nbformat_minor": 5
}
